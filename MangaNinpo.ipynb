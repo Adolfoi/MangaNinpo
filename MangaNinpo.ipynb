{
  "cells": [
    {
      "cell_type": "code",
      "execution_count": 1,
      "metadata": {
        "id": "wEc5OFQVR6s4",
        "colab": {
          "base_uri": "https://localhost:8080/"
        },
        "outputId": "7c45ea61-f448-4f82-d322-d301b41aa8d4"
      },
      "outputs": [
        {
          "output_type": "stream",
          "name": "stdout",
          "text": [
            "Cloning into 'stable-diffusion-webui'...\n",
            "remote: Enumerating objects: 32887, done.\u001b[K\n",
            "remote: Counting objects: 100% (12/12), done.\u001b[K\n",
            "remote: Compressing objects: 100% (10/10), done.\u001b[K\n",
            "remote: Total 32887 (delta 3), reused 8 (delta 2), pack-reused 32875\u001b[K\n",
            "Receiving objects: 100% (32887/32887), 34.46 MiB | 12.07 MiB/s, done.\n",
            "Resolving deltas: 100% (23036/23036), done.\n"
          ]
        }
      ],
      "source": [
        "#webUIの本体ダウンロード\n",
        "!git clone https://github.com/AUTOMATIC1111/stable-diffusion-webui"
      ]
    },
    {
      "cell_type": "code",
      "execution_count": 2,
      "metadata": {
        "id": "-xqfoD2tE2gs",
        "colab": {
          "base_uri": "https://localhost:8080/"
        },
        "outputId": "1a5354bf-dde3-41e5-abef-0f337d80c0c4"
      },
      "outputs": [
        {
          "output_type": "stream",
          "name": "stdout",
          "text": [
            "/content/stable-diffusion-webui/extensions\n",
            "Cloning into 'sd-webui-controlnet'...\n",
            "remote: Enumerating objects: 9403, done.\u001b[K\n",
            "remote: Counting objects: 100% (1565/1565), done.\u001b[K\n",
            "remote: Compressing objects: 100% (433/433), done.\u001b[K\n",
            "remote: Total 9403 (delta 1352), reused 1229 (delta 1122), pack-reused 7838\u001b[K\n",
            "Receiving objects: 100% (9403/9403), 17.89 MiB | 12.79 MiB/s, done.\n",
            "Resolving deltas: 100% (5598/5598), done.\n"
          ]
        }
      ],
      "source": [
        "#プラグインの格納場所へ移動\n",
        "%cd /content/stable-diffusion-webui/extensions\n",
        "\n",
        "#controlnetプラグインインストール\n",
        "!git clone https://github.com/Mikubill/sd-webui-controlnet"
      ]
    },
    {
      "cell_type": "code",
      "execution_count": null,
      "metadata": {
        "id": "y_zB349uR_4Z",
        "colab": {
          "base_uri": "https://localhost:8080/"
        },
        "outputId": "e6571d30-4c8d-4a0a-e9c6-f9cf716fdff1"
      },
      "outputs": [
        {
          "output_type": "stream",
          "name": "stdout",
          "text": [
            "--2024-04-15 22:29:30--  https://huggingface.co/a1079602570/animefull-final-pruned/resolve/main/model.ckpt\n",
            "Resolving huggingface.co (huggingface.co)... 18.155.68.4, 18.155.68.111, 18.155.68.99, ...\n",
            "Connecting to huggingface.co (huggingface.co)|18.155.68.4|:443... connected.\n",
            "HTTP request sent, awaiting response... 302 Found\n",
            "Location: https://cdn-lfs.huggingface.co/repos/b8/50/b850a42913896bcf631e0b2d4c37d6a795b1cd5cf21431de6e301c59e5b8b17c/a7529df02340e5b4c3870c894c1ae84f22ea7b37fd0633e5bacfad9618228032?response-content-disposition=attachment%3B+filename*%3DUTF-8%27%27model.ckpt%3B+filename%3D%22model.ckpt%22%3B&Expires=1713479370&Policy=eyJTdGF0ZW1lbnQiOlt7IkNvbmRpdGlvbiI6eyJEYXRlTGVzc1RoYW4iOnsiQVdTOkVwb2NoVGltZSI6MTcxMzQ3OTM3MH19LCJSZXNvdXJjZSI6Imh0dHBzOi8vY2RuLWxmcy5odWdnaW5nZmFjZS5jby9yZXBvcy9iOC81MC9iODUwYTQyOTEzODk2YmNmNjMxZTBiMmQ0YzM3ZDZhNzk1YjFjZDVjZjIxNDMxZGU2ZTMwMWM1OWU1YjhiMTdjL2E3NTI5ZGYwMjM0MGU1YjRjMzg3MGM4OTRjMWFlODRmMjJlYTdiMzdmZDA2MzNlNWJhY2ZhZDk2MTgyMjgwMzI%7EcmVzcG9uc2UtY29udGVudC1kaXNwb3NpdGlvbj0qIn1dfQ__&Signature=e3k4gcqAuFlbRWXkCYDq0xl9v-hq4UFXj4eAtPXU50wirfa-T4IpK49-tETY2K7LMEYJQAlk%7EYasszt53pRSN5Eipy9h6TDk%7E8pcjI77yg7NT3mnt%7E3fsqVtjmv63bOPmS8mwdGSaRpjstlbNbKBy-eT1ei7GrOJvalTzMxodQcxPPCtLwjsv73VLDvWKCJ-f8Dj4DKUUsQ2ryqO0iCTUb3E46UAt%7Elm%7EgpuM769JbRtweAcUOU5w8PFCtUdaqirnnJ8kvXl8JuNXmz8ghlNxTL9aLXtQZZfHb2ISb-A5hj6%7ESEwtvDHJZVzpd8k1D031DJrWkUjDEwjkG3tBy6Y8g__&Key-Pair-Id=KVTP0A1DKRTAX [following]\n",
            "--2024-04-15 22:29:30--  https://cdn-lfs.huggingface.co/repos/b8/50/b850a42913896bcf631e0b2d4c37d6a795b1cd5cf21431de6e301c59e5b8b17c/a7529df02340e5b4c3870c894c1ae84f22ea7b37fd0633e5bacfad9618228032?response-content-disposition=attachment%3B+filename*%3DUTF-8%27%27model.ckpt%3B+filename%3D%22model.ckpt%22%3B&Expires=1713479370&Policy=eyJTdGF0ZW1lbnQiOlt7IkNvbmRpdGlvbiI6eyJEYXRlTGVzc1RoYW4iOnsiQVdTOkVwb2NoVGltZSI6MTcxMzQ3OTM3MH19LCJSZXNvdXJjZSI6Imh0dHBzOi8vY2RuLWxmcy5odWdnaW5nZmFjZS5jby9yZXBvcy9iOC81MC9iODUwYTQyOTEzODk2YmNmNjMxZTBiMmQ0YzM3ZDZhNzk1YjFjZDVjZjIxNDMxZGU2ZTMwMWM1OWU1YjhiMTdjL2E3NTI5ZGYwMjM0MGU1YjRjMzg3MGM4OTRjMWFlODRmMjJlYTdiMzdmZDA2MzNlNWJhY2ZhZDk2MTgyMjgwMzI%7EcmVzcG9uc2UtY29udGVudC1kaXNwb3NpdGlvbj0qIn1dfQ__&Signature=e3k4gcqAuFlbRWXkCYDq0xl9v-hq4UFXj4eAtPXU50wirfa-T4IpK49-tETY2K7LMEYJQAlk%7EYasszt53pRSN5Eipy9h6TDk%7E8pcjI77yg7NT3mnt%7E3fsqVtjmv63bOPmS8mwdGSaRpjstlbNbKBy-eT1ei7GrOJvalTzMxodQcxPPCtLwjsv73VLDvWKCJ-f8Dj4DKUUsQ2ryqO0iCTUb3E46UAt%7Elm%7EgpuM769JbRtweAcUOU5w8PFCtUdaqirnnJ8kvXl8JuNXmz8ghlNxTL9aLXtQZZfHb2ISb-A5hj6%7ESEwtvDHJZVzpd8k1D031DJrWkUjDEwjkG3tBy6Y8g__&Key-Pair-Id=KVTP0A1DKRTAX\n",
            "Resolving cdn-lfs.huggingface.co (cdn-lfs.huggingface.co)... 18.155.68.94, 18.155.68.73, 18.155.68.98, ...\n",
            "Connecting to cdn-lfs.huggingface.co (cdn-lfs.huggingface.co)|18.155.68.94|:443... connected.\n",
            "HTTP request sent, awaiting response... 200 OK\n",
            "Length: 7703828146 (7.2G) [binary/octet-stream]\n",
            "Saving to: ‘/content/stable-diffusion-webui/models/Stable-diffusion/animefull-final-pruned.ckpt’\n",
            "\n",
            "le-diffusion/animef  18%[==>                 ]   1.31G  15.1MB/s    eta 6m 45s "
          ]
        }
      ],
      "source": [
        "#生成モデルのインストール（自分で使うモデルをインストールして下さい）\n",
        "#/content/stable-diffusion-webui/models/Stable-diffusion/に置く\n",
        "!wget https://huggingface.co/a1079602570/animefull-final-pruned/resolve/main/model.ckpt -O /content/stable-diffusion-webui/models/Stable-diffusion/animefull-final-pruned.ckpt"
      ]
    },
    {
      "cell_type": "code",
      "execution_count": 4,
      "metadata": {
        "colab": {
          "base_uri": "https://localhost:8080/"
        },
        "id": "i8-LqdX4SJq7",
        "outputId": "4f30abef-5a67-41bd-b953-8bce410dba34"
      },
      "outputs": [
        {
          "output_type": "stream",
          "name": "stdout",
          "text": [
            "/content/stable-diffusion-webui\n",
            "Python 3.10.12 (main, Nov 20 2023, 15:14:05) [GCC 11.4.0]\n",
            "Version: v1.9.0\n",
            "Commit hash: adadb4e3c7382bf3e4f7519126cd6c70f4f8557b\n",
            "Traceback (most recent call last):\n",
            "  File \"/usr/lib/python3.10/subprocess.py\", line 1154, in communicate\n",
            "    stdout, stderr = self._communicate(input, endtime, timeout)\n",
            "  File \"/usr/lib/python3.10/subprocess.py\", line 2021, in _communicate\n",
            "    ready = selector.select(timeout)\n",
            "  File \"/usr/lib/python3.10/selectors.py\", line 416, in select\n",
            "    fd_event_list = self._selector.poll(timeout)\n",
            "KeyboardInterrupt\n",
            "\n",
            "During handling of the above exception, another exception occurred:\n",
            "\n",
            "Traceback (most recent call last):\n",
            "  File \"/content/stable-diffusion-webui/launch.py\", line 48, in <module>\n",
            "    main()\n",
            "  File \"/content/stable-diffusion-webui/launch.py\", line 39, in main\n",
            "    prepare_environment()\n",
            "  File \"/content/stable-diffusion-webui/modules/launch_utils.py\", line 385, in prepare_environment\n",
            "    if not args.skip_torch_cuda_test and not check_run_python(\"import torch; assert torch.cuda.is_available()\"):\n",
            "  File \"/content/stable-diffusion-webui/modules/launch_utils.py\", line 147, in check_run_python\n",
            "    result = subprocess.run([python, \"-c\", code], capture_output=True, shell=False)\n",
            "  File \"/usr/lib/python3.10/subprocess.py\", line 505, in run\n",
            "    stdout, stderr = process.communicate(input, timeout=timeout)\n",
            "  File \"/usr/lib/python3.10/subprocess.py\", line 1165, in communicate\n",
            "    self._wait(timeout=sigint_timeout)\n",
            "  File \"/usr/lib/python3.10/subprocess.py\", line 1942, in _wait\n",
            "    (pid, sts) = self._try_wait(os.WNOHANG)\n",
            "  File \"/usr/lib/python3.10/subprocess.py\", line 1917, in _try_wait\n",
            "    (pid, sts) = os.waitpid(self.pid, wait_flags)\n",
            "KeyboardInterrupt\n",
            "^C\n"
          ]
        }
      ],
      "source": [
        "#webUI本体へ移動\n",
        "%cd /content/stable-diffusion-webui\n",
        "\n",
        "!python launch.py --share --xformers --enable-insecure-extension-access"
      ]
    }
  ],
  "metadata": {
    "accelerator": "GPU",
    "colab": {
      "machine_shape": "hm",
      "provenance": []
    },
    "kernelspec": {
      "display_name": "Python 3",
      "name": "python3"
    },
    "language_info": {
      "name": "python"
    }
  },
  "nbformat": 4,
  "nbformat_minor": 0
}